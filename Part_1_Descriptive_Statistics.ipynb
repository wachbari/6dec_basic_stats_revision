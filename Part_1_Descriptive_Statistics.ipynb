{
 "cells": [
  {
   "cell_type": "markdown",
   "metadata": {},
   "source": [
    "# Part 1: Descriptive Statistics\n",
    "\n",
    "---"
   ]
  },
  {
   "cell_type": "markdown",
   "metadata": {},
   "source": [
    "## Let's use real data!\n",
    "\n",
    "---\n",
    "\n",
    "First, let's clear our workspace. In Python we do this be restarting our kernel to clear are variables. In your notebook, press the buttons `Restart Kernel` and `Clear All Outputs`.\n",
    "\n",
    "With a fresh workspace, we can load in our data. We use `os.chdir()` to change our working directory. Replace the string below with the corresponding path & file-name used on your pc:"
   ]
  },
  {
   "cell_type": "code",
   "execution_count": 2,
   "metadata": {},
   "outputs": [],
   "source": [
    "import os\n",
    "tmp = 'C:/Users/wachb/OneDrive - UvA/CSSci/Stats/revision/Notebooks/notebooks'\n",
    "os.chdir(tmp)"
   ]
  },
  {
   "cell_type": "markdown",
   "metadata": {},
   "source": [
    "In Python, pandas is typically used for data manipulation and analysis. To load pandas into our workspace, we must first import it:"
   ]
  },
  {
   "cell_type": "code",
   "execution_count": 3,
   "metadata": {},
   "outputs": [],
   "source": [
    "import pandas as pd"
   ]
  },
  {
   "cell_type": "markdown",
   "metadata": {},
   "source": [
    "Now we can use it to read the dataset provided to you:"
   ]
  },
  {
   "cell_type": "code",
   "execution_count": 4,
   "metadata": {},
   "outputs": [],
   "source": [
    "dat1 = pd.read_csv(\"non_western_immigrants.csv\")"
   ]
  },
  {
   "cell_type": "markdown",
   "metadata": {},
   "source": [
    "### Data Exploration\n",
    "\n",
    "---\n",
    "\n",
    "Having loaded the data as a pandas DataFrame called `dat1`, we do some initial exploration of the dataset. For example:"
   ]
  },
  {
   "cell_type": "code",
   "execution_count": 5,
   "metadata": {},
   "outputs": [
    {
     "data": {
      "text/plain": [
       "(1049, 13)"
      ]
     },
     "execution_count": 5,
     "metadata": {},
     "output_type": "execute_result"
    }
   ],
   "source": [
    "# 1. Displaying dimensions, i.e. (rows, columns), of the DataFrame: \n",
    "dat1.shape"
   ]
  },
  {
   "cell_type": "code",
   "execution_count": 6,
   "metadata": {},
   "outputs": [
    {
     "data": {
      "text/html": [
       "<div>\n",
       "<style scoped>\n",
       "    .dataframe tbody tr th:only-of-type {\n",
       "        vertical-align: middle;\n",
       "    }\n",
       "\n",
       "    .dataframe tbody tr th {\n",
       "        vertical-align: top;\n",
       "    }\n",
       "\n",
       "    .dataframe thead th {\n",
       "        text-align: right;\n",
       "    }\n",
       "</style>\n",
       "<table border=\"1\" class=\"dataframe\">\n",
       "  <thead>\n",
       "    <tr style=\"text-align: right;\">\n",
       "      <th></th>\n",
       "      <th>IMMBRIT</th>\n",
       "      <th>over.estimate</th>\n",
       "      <th>RSex</th>\n",
       "      <th>RAge</th>\n",
       "      <th>Househld</th>\n",
       "      <th>paper</th>\n",
       "      <th>WWWhourspW</th>\n",
       "      <th>religious</th>\n",
       "      <th>employMonths</th>\n",
       "      <th>urban</th>\n",
       "      <th>health.good</th>\n",
       "      <th>HHInc</th>\n",
       "      <th>party_self</th>\n",
       "    </tr>\n",
       "  </thead>\n",
       "  <tbody>\n",
       "    <tr>\n",
       "      <th>0</th>\n",
       "      <td>1</td>\n",
       "      <td>0</td>\n",
       "      <td>1</td>\n",
       "      <td>50</td>\n",
       "      <td>2</td>\n",
       "      <td>0</td>\n",
       "      <td>1</td>\n",
       "      <td>0</td>\n",
       "      <td>72</td>\n",
       "      <td>4</td>\n",
       "      <td>1</td>\n",
       "      <td>13</td>\n",
       "      <td>2</td>\n",
       "    </tr>\n",
       "    <tr>\n",
       "      <th>1</th>\n",
       "      <td>50</td>\n",
       "      <td>1</td>\n",
       "      <td>2</td>\n",
       "      <td>18</td>\n",
       "      <td>3</td>\n",
       "      <td>0</td>\n",
       "      <td>4</td>\n",
       "      <td>0</td>\n",
       "      <td>72</td>\n",
       "      <td>4</td>\n",
       "      <td>2</td>\n",
       "      <td>3</td>\n",
       "      <td>7</td>\n",
       "    </tr>\n",
       "    <tr>\n",
       "      <th>2</th>\n",
       "      <td>50</td>\n",
       "      <td>1</td>\n",
       "      <td>2</td>\n",
       "      <td>60</td>\n",
       "      <td>1</td>\n",
       "      <td>0</td>\n",
       "      <td>1</td>\n",
       "      <td>0</td>\n",
       "      <td>456</td>\n",
       "      <td>3</td>\n",
       "      <td>3</td>\n",
       "      <td>9</td>\n",
       "      <td>7</td>\n",
       "    </tr>\n",
       "    <tr>\n",
       "      <th>3</th>\n",
       "      <td>15</td>\n",
       "      <td>1</td>\n",
       "      <td>2</td>\n",
       "      <td>77</td>\n",
       "      <td>2</td>\n",
       "      <td>1</td>\n",
       "      <td>2</td>\n",
       "      <td>1</td>\n",
       "      <td>72</td>\n",
       "      <td>1</td>\n",
       "      <td>3</td>\n",
       "      <td>8</td>\n",
       "      <td>7</td>\n",
       "    </tr>\n",
       "    <tr>\n",
       "      <th>4</th>\n",
       "      <td>20</td>\n",
       "      <td>1</td>\n",
       "      <td>2</td>\n",
       "      <td>67</td>\n",
       "      <td>1</td>\n",
       "      <td>0</td>\n",
       "      <td>1</td>\n",
       "      <td>1</td>\n",
       "      <td>72</td>\n",
       "      <td>3</td>\n",
       "      <td>3</td>\n",
       "      <td>9</td>\n",
       "      <td>7</td>\n",
       "    </tr>\n",
       "    <tr>\n",
       "      <th>5</th>\n",
       "      <td>30</td>\n",
       "      <td>1</td>\n",
       "      <td>1</td>\n",
       "      <td>30</td>\n",
       "      <td>4</td>\n",
       "      <td>1</td>\n",
       "      <td>14</td>\n",
       "      <td>0</td>\n",
       "      <td>72</td>\n",
       "      <td>1</td>\n",
       "      <td>2</td>\n",
       "      <td>9</td>\n",
       "      <td>7</td>\n",
       "    </tr>\n",
       "    <tr>\n",
       "      <th>6</th>\n",
       "      <td>60</td>\n",
       "      <td>1</td>\n",
       "      <td>2</td>\n",
       "      <td>56</td>\n",
       "      <td>2</td>\n",
       "      <td>0</td>\n",
       "      <td>5</td>\n",
       "      <td>1</td>\n",
       "      <td>180</td>\n",
       "      <td>1</td>\n",
       "      <td>2</td>\n",
       "      <td>13</td>\n",
       "      <td>3</td>\n",
       "    </tr>\n",
       "    <tr>\n",
       "      <th>7</th>\n",
       "      <td>7</td>\n",
       "      <td>0</td>\n",
       "      <td>1</td>\n",
       "      <td>49</td>\n",
       "      <td>1</td>\n",
       "      <td>1</td>\n",
       "      <td>8</td>\n",
       "      <td>0</td>\n",
       "      <td>156</td>\n",
       "      <td>4</td>\n",
       "      <td>2</td>\n",
       "      <td>14</td>\n",
       "      <td>7</td>\n",
       "    </tr>\n",
       "    <tr>\n",
       "      <th>8</th>\n",
       "      <td>30</td>\n",
       "      <td>1</td>\n",
       "      <td>1</td>\n",
       "      <td>40</td>\n",
       "      <td>4</td>\n",
       "      <td>0</td>\n",
       "      <td>3</td>\n",
       "      <td>1</td>\n",
       "      <td>264</td>\n",
       "      <td>2</td>\n",
       "      <td>2</td>\n",
       "      <td>11</td>\n",
       "      <td>3</td>\n",
       "    </tr>\n",
       "    <tr>\n",
       "      <th>9</th>\n",
       "      <td>2</td>\n",
       "      <td>0</td>\n",
       "      <td>1</td>\n",
       "      <td>61</td>\n",
       "      <td>3</td>\n",
       "      <td>1</td>\n",
       "      <td>0</td>\n",
       "      <td>1</td>\n",
       "      <td>72</td>\n",
       "      <td>1</td>\n",
       "      <td>3</td>\n",
       "      <td>8</td>\n",
       "      <td>1</td>\n",
       "    </tr>\n",
       "  </tbody>\n",
       "</table>\n",
       "</div>"
      ],
      "text/plain": [
       "   IMMBRIT  over.estimate  RSex  RAge  Househld  paper  WWWhourspW  religious  \\\n",
       "0        1              0     1    50         2      0           1          0   \n",
       "1       50              1     2    18         3      0           4          0   \n",
       "2       50              1     2    60         1      0           1          0   \n",
       "3       15              1     2    77         2      1           2          1   \n",
       "4       20              1     2    67         1      0           1          1   \n",
       "5       30              1     1    30         4      1          14          0   \n",
       "6       60              1     2    56         2      0           5          1   \n",
       "7        7              0     1    49         1      1           8          0   \n",
       "8       30              1     1    40         4      0           3          1   \n",
       "9        2              0     1    61         3      1           0          1   \n",
       "\n",
       "   employMonths  urban  health.good  HHInc  party_self  \n",
       "0            72      4            1     13           2  \n",
       "1            72      4            2      3           7  \n",
       "2           456      3            3      9           7  \n",
       "3            72      1            3      8           7  \n",
       "4            72      3            3      9           7  \n",
       "5            72      1            2      9           7  \n",
       "6           180      1            2     13           3  \n",
       "7           156      4            2     14           7  \n",
       "8           264      2            2     11           3  \n",
       "9            72      1            3      8           1  "
      ]
     },
     "execution_count": 6,
     "metadata": {},
     "output_type": "execute_result"
    }
   ],
   "source": [
    "# 2. Viewing the first 10 rows of the DataFrame:\n",
    "dat1.head(10)"
   ]
  },
  {
   "cell_type": "code",
   "execution_count": 7,
   "metadata": {},
   "outputs": [
    {
     "data": {
      "text/html": [
       "<div>\n",
       "<style scoped>\n",
       "    .dataframe tbody tr th:only-of-type {\n",
       "        vertical-align: middle;\n",
       "    }\n",
       "\n",
       "    .dataframe tbody tr th {\n",
       "        vertical-align: top;\n",
       "    }\n",
       "\n",
       "    .dataframe thead th {\n",
       "        text-align: right;\n",
       "    }\n",
       "</style>\n",
       "<table border=\"1\" class=\"dataframe\">\n",
       "  <thead>\n",
       "    <tr style=\"text-align: right;\">\n",
       "      <th></th>\n",
       "      <th>IMMBRIT</th>\n",
       "      <th>over.estimate</th>\n",
       "      <th>RSex</th>\n",
       "      <th>RAge</th>\n",
       "      <th>Househld</th>\n",
       "      <th>paper</th>\n",
       "      <th>WWWhourspW</th>\n",
       "      <th>religious</th>\n",
       "      <th>employMonths</th>\n",
       "      <th>urban</th>\n",
       "      <th>health.good</th>\n",
       "      <th>HHInc</th>\n",
       "      <th>party_self</th>\n",
       "    </tr>\n",
       "  </thead>\n",
       "  <tbody>\n",
       "    <tr>\n",
       "      <th>0</th>\n",
       "      <td>1</td>\n",
       "      <td>0</td>\n",
       "      <td>1</td>\n",
       "      <td>50</td>\n",
       "      <td>2</td>\n",
       "      <td>0</td>\n",
       "      <td>1</td>\n",
       "      <td>0</td>\n",
       "      <td>72</td>\n",
       "      <td>4</td>\n",
       "      <td>1</td>\n",
       "      <td>13</td>\n",
       "      <td>2</td>\n",
       "    </tr>\n",
       "    <tr>\n",
       "      <th>1</th>\n",
       "      <td>50</td>\n",
       "      <td>1</td>\n",
       "      <td>2</td>\n",
       "      <td>18</td>\n",
       "      <td>3</td>\n",
       "      <td>0</td>\n",
       "      <td>4</td>\n",
       "      <td>0</td>\n",
       "      <td>72</td>\n",
       "      <td>4</td>\n",
       "      <td>2</td>\n",
       "      <td>3</td>\n",
       "      <td>7</td>\n",
       "    </tr>\n",
       "    <tr>\n",
       "      <th>2</th>\n",
       "      <td>50</td>\n",
       "      <td>1</td>\n",
       "      <td>2</td>\n",
       "      <td>60</td>\n",
       "      <td>1</td>\n",
       "      <td>0</td>\n",
       "      <td>1</td>\n",
       "      <td>0</td>\n",
       "      <td>456</td>\n",
       "      <td>3</td>\n",
       "      <td>3</td>\n",
       "      <td>9</td>\n",
       "      <td>7</td>\n",
       "    </tr>\n",
       "    <tr>\n",
       "      <th>3</th>\n",
       "      <td>15</td>\n",
       "      <td>1</td>\n",
       "      <td>2</td>\n",
       "      <td>77</td>\n",
       "      <td>2</td>\n",
       "      <td>1</td>\n",
       "      <td>2</td>\n",
       "      <td>1</td>\n",
       "      <td>72</td>\n",
       "      <td>1</td>\n",
       "      <td>3</td>\n",
       "      <td>8</td>\n",
       "      <td>7</td>\n",
       "    </tr>\n",
       "    <tr>\n",
       "      <th>4</th>\n",
       "      <td>20</td>\n",
       "      <td>1</td>\n",
       "      <td>2</td>\n",
       "      <td>67</td>\n",
       "      <td>1</td>\n",
       "      <td>0</td>\n",
       "      <td>1</td>\n",
       "      <td>1</td>\n",
       "      <td>72</td>\n",
       "      <td>3</td>\n",
       "      <td>3</td>\n",
       "      <td>9</td>\n",
       "      <td>7</td>\n",
       "    </tr>\n",
       "    <tr>\n",
       "      <th>5</th>\n",
       "      <td>30</td>\n",
       "      <td>1</td>\n",
       "      <td>1</td>\n",
       "      <td>30</td>\n",
       "      <td>4</td>\n",
       "      <td>1</td>\n",
       "      <td>14</td>\n",
       "      <td>0</td>\n",
       "      <td>72</td>\n",
       "      <td>1</td>\n",
       "      <td>2</td>\n",
       "      <td>9</td>\n",
       "      <td>7</td>\n",
       "    </tr>\n",
       "    <tr>\n",
       "      <th>6</th>\n",
       "      <td>60</td>\n",
       "      <td>1</td>\n",
       "      <td>2</td>\n",
       "      <td>56</td>\n",
       "      <td>2</td>\n",
       "      <td>0</td>\n",
       "      <td>5</td>\n",
       "      <td>1</td>\n",
       "      <td>180</td>\n",
       "      <td>1</td>\n",
       "      <td>2</td>\n",
       "      <td>13</td>\n",
       "      <td>3</td>\n",
       "    </tr>\n",
       "    <tr>\n",
       "      <th>7</th>\n",
       "      <td>7</td>\n",
       "      <td>0</td>\n",
       "      <td>1</td>\n",
       "      <td>49</td>\n",
       "      <td>1</td>\n",
       "      <td>1</td>\n",
       "      <td>8</td>\n",
       "      <td>0</td>\n",
       "      <td>156</td>\n",
       "      <td>4</td>\n",
       "      <td>2</td>\n",
       "      <td>14</td>\n",
       "      <td>7</td>\n",
       "    </tr>\n",
       "    <tr>\n",
       "      <th>8</th>\n",
       "      <td>30</td>\n",
       "      <td>1</td>\n",
       "      <td>1</td>\n",
       "      <td>40</td>\n",
       "      <td>4</td>\n",
       "      <td>0</td>\n",
       "      <td>3</td>\n",
       "      <td>1</td>\n",
       "      <td>264</td>\n",
       "      <td>2</td>\n",
       "      <td>2</td>\n",
       "      <td>11</td>\n",
       "      <td>3</td>\n",
       "    </tr>\n",
       "    <tr>\n",
       "      <th>9</th>\n",
       "      <td>2</td>\n",
       "      <td>0</td>\n",
       "      <td>1</td>\n",
       "      <td>61</td>\n",
       "      <td>3</td>\n",
       "      <td>1</td>\n",
       "      <td>0</td>\n",
       "      <td>1</td>\n",
       "      <td>72</td>\n",
       "      <td>1</td>\n",
       "      <td>3</td>\n",
       "      <td>8</td>\n",
       "      <td>1</td>\n",
       "    </tr>\n",
       "  </tbody>\n",
       "</table>\n",
       "</div>"
      ],
      "text/plain": [
       "   IMMBRIT  over.estimate  RSex  RAge  Househld  paper  WWWhourspW  religious  \\\n",
       "0        1              0     1    50         2      0           1          0   \n",
       "1       50              1     2    18         3      0           4          0   \n",
       "2       50              1     2    60         1      0           1          0   \n",
       "3       15              1     2    77         2      1           2          1   \n",
       "4       20              1     2    67         1      0           1          1   \n",
       "5       30              1     1    30         4      1          14          0   \n",
       "6       60              1     2    56         2      0           5          1   \n",
       "7        7              0     1    49         1      1           8          0   \n",
       "8       30              1     1    40         4      0           3          1   \n",
       "9        2              0     1    61         3      1           0          1   \n",
       "\n",
       "   employMonths  urban  health.good  HHInc  party_self  \n",
       "0            72      4            1     13           2  \n",
       "1            72      4            2      3           7  \n",
       "2           456      3            3      9           7  \n",
       "3            72      1            3      8           7  \n",
       "4            72      3            3      9           7  \n",
       "5            72      1            2      9           7  \n",
       "6           180      1            2     13           3  \n",
       "7           156      4            2     14           7  \n",
       "8           264      2            2     11           3  \n",
       "9            72      1            3      8           1  "
      ]
     },
     "execution_count": 7,
     "metadata": {},
     "output_type": "execute_result"
    }
   ],
   "source": [
    "# or, equivalently, using slicing:\n",
    "dat1.iloc[0:10]  # note that we start counting from 0 and that the upper bound is not included"
   ]
  },
  {
   "cell_type": "code",
   "execution_count": 8,
   "metadata": {},
   "outputs": [
    {
     "data": {
      "text/html": [
       "<div>\n",
       "<style scoped>\n",
       "    .dataframe tbody tr th:only-of-type {\n",
       "        vertical-align: middle;\n",
       "    }\n",
       "\n",
       "    .dataframe tbody tr th {\n",
       "        vertical-align: top;\n",
       "    }\n",
       "\n",
       "    .dataframe thead th {\n",
       "        text-align: right;\n",
       "    }\n",
       "</style>\n",
       "<table border=\"1\" class=\"dataframe\">\n",
       "  <thead>\n",
       "    <tr style=\"text-align: right;\">\n",
       "      <th></th>\n",
       "      <th>IMMBRIT</th>\n",
       "      <th>over.estimate</th>\n",
       "      <th>RSex</th>\n",
       "      <th>RAge</th>\n",
       "      <th>Househld</th>\n",
       "      <th>paper</th>\n",
       "      <th>WWWhourspW</th>\n",
       "      <th>religious</th>\n",
       "      <th>employMonths</th>\n",
       "      <th>urban</th>\n",
       "      <th>health.good</th>\n",
       "      <th>HHInc</th>\n",
       "      <th>party_self</th>\n",
       "    </tr>\n",
       "  </thead>\n",
       "  <tbody>\n",
       "    <tr>\n",
       "      <th>count</th>\n",
       "      <td>1049.000000</td>\n",
       "      <td>1049.000000</td>\n",
       "      <td>1049.000000</td>\n",
       "      <td>1049.000000</td>\n",
       "      <td>1049.000000</td>\n",
       "      <td>1049.000000</td>\n",
       "      <td>1049.000000</td>\n",
       "      <td>1049.000000</td>\n",
       "      <td>1049.000000</td>\n",
       "      <td>1049.000000</td>\n",
       "      <td>1049.000000</td>\n",
       "      <td>1049.000000</td>\n",
       "      <td>1049.000000</td>\n",
       "    </tr>\n",
       "    <tr>\n",
       "      <th>mean</th>\n",
       "      <td>29.030505</td>\n",
       "      <td>0.723546</td>\n",
       "      <td>1.544328</td>\n",
       "      <td>49.745472</td>\n",
       "      <td>2.391802</td>\n",
       "      <td>0.453765</td>\n",
       "      <td>5.250715</td>\n",
       "      <td>0.492850</td>\n",
       "      <td>86.564347</td>\n",
       "      <td>2.568160</td>\n",
       "      <td>2.043851</td>\n",
       "      <td>9.586273</td>\n",
       "      <td>3.824595</td>\n",
       "    </tr>\n",
       "    <tr>\n",
       "      <th>std</th>\n",
       "      <td>21.063314</td>\n",
       "      <td>0.447457</td>\n",
       "      <td>0.498269</td>\n",
       "      <td>17.572452</td>\n",
       "      <td>1.339352</td>\n",
       "      <td>0.498095</td>\n",
       "      <td>7.983108</td>\n",
       "      <td>0.500187</td>\n",
       "      <td>71.612213</td>\n",
       "      <td>1.068894</td>\n",
       "      <td>0.901643</td>\n",
       "      <td>4.639529</td>\n",
       "      <td>2.633048</td>\n",
       "    </tr>\n",
       "    <tr>\n",
       "      <th>min</th>\n",
       "      <td>0.000000</td>\n",
       "      <td>0.000000</td>\n",
       "      <td>1.000000</td>\n",
       "      <td>17.000000</td>\n",
       "      <td>1.000000</td>\n",
       "      <td>0.000000</td>\n",
       "      <td>0.000000</td>\n",
       "      <td>0.000000</td>\n",
       "      <td>1.000000</td>\n",
       "      <td>1.000000</td>\n",
       "      <td>0.000000</td>\n",
       "      <td>1.000000</td>\n",
       "      <td>1.000000</td>\n",
       "    </tr>\n",
       "    <tr>\n",
       "      <th>25%</th>\n",
       "      <td>10.000000</td>\n",
       "      <td>0.000000</td>\n",
       "      <td>1.000000</td>\n",
       "      <td>36.000000</td>\n",
       "      <td>1.000000</td>\n",
       "      <td>0.000000</td>\n",
       "      <td>0.000000</td>\n",
       "      <td>0.000000</td>\n",
       "      <td>72.000000</td>\n",
       "      <td>2.000000</td>\n",
       "      <td>2.000000</td>\n",
       "      <td>6.000000</td>\n",
       "      <td>1.000000</td>\n",
       "    </tr>\n",
       "    <tr>\n",
       "      <th>50%</th>\n",
       "      <td>25.000000</td>\n",
       "      <td>1.000000</td>\n",
       "      <td>2.000000</td>\n",
       "      <td>49.000000</td>\n",
       "      <td>2.000000</td>\n",
       "      <td>0.000000</td>\n",
       "      <td>2.000000</td>\n",
       "      <td>0.000000</td>\n",
       "      <td>72.000000</td>\n",
       "      <td>3.000000</td>\n",
       "      <td>2.000000</td>\n",
       "      <td>9.000000</td>\n",
       "      <td>2.000000</td>\n",
       "    </tr>\n",
       "    <tr>\n",
       "      <th>75%</th>\n",
       "      <td>40.000000</td>\n",
       "      <td>1.000000</td>\n",
       "      <td>2.000000</td>\n",
       "      <td>62.000000</td>\n",
       "      <td>3.000000</td>\n",
       "      <td>1.000000</td>\n",
       "      <td>7.000000</td>\n",
       "      <td>1.000000</td>\n",
       "      <td>72.000000</td>\n",
       "      <td>3.000000</td>\n",
       "      <td>3.000000</td>\n",
       "      <td>13.000000</td>\n",
       "      <td>7.000000</td>\n",
       "    </tr>\n",
       "    <tr>\n",
       "      <th>max</th>\n",
       "      <td>100.000000</td>\n",
       "      <td>1.000000</td>\n",
       "      <td>2.000000</td>\n",
       "      <td>99.000000</td>\n",
       "      <td>8.000000</td>\n",
       "      <td>1.000000</td>\n",
       "      <td>100.000000</td>\n",
       "      <td>1.000000</td>\n",
       "      <td>600.000000</td>\n",
       "      <td>4.000000</td>\n",
       "      <td>3.000000</td>\n",
       "      <td>17.000000</td>\n",
       "      <td>7.000000</td>\n",
       "    </tr>\n",
       "  </tbody>\n",
       "</table>\n",
       "</div>"
      ],
      "text/plain": [
       "           IMMBRIT  over.estimate         RSex         RAge     Househld  \\\n",
       "count  1049.000000    1049.000000  1049.000000  1049.000000  1049.000000   \n",
       "mean     29.030505       0.723546     1.544328    49.745472     2.391802   \n",
       "std      21.063314       0.447457     0.498269    17.572452     1.339352   \n",
       "min       0.000000       0.000000     1.000000    17.000000     1.000000   \n",
       "25%      10.000000       0.000000     1.000000    36.000000     1.000000   \n",
       "50%      25.000000       1.000000     2.000000    49.000000     2.000000   \n",
       "75%      40.000000       1.000000     2.000000    62.000000     3.000000   \n",
       "max     100.000000       1.000000     2.000000    99.000000     8.000000   \n",
       "\n",
       "             paper   WWWhourspW    religious  employMonths        urban  \\\n",
       "count  1049.000000  1049.000000  1049.000000   1049.000000  1049.000000   \n",
       "mean      0.453765     5.250715     0.492850     86.564347     2.568160   \n",
       "std       0.498095     7.983108     0.500187     71.612213     1.068894   \n",
       "min       0.000000     0.000000     0.000000      1.000000     1.000000   \n",
       "25%       0.000000     0.000000     0.000000     72.000000     2.000000   \n",
       "50%       0.000000     2.000000     0.000000     72.000000     3.000000   \n",
       "75%       1.000000     7.000000     1.000000     72.000000     3.000000   \n",
       "max       1.000000   100.000000     1.000000    600.000000     4.000000   \n",
       "\n",
       "       health.good        HHInc   party_self  \n",
       "count  1049.000000  1049.000000  1049.000000  \n",
       "mean      2.043851     9.586273     3.824595  \n",
       "std       0.901643     4.639529     2.633048  \n",
       "min       0.000000     1.000000     1.000000  \n",
       "25%       2.000000     6.000000     1.000000  \n",
       "50%       2.000000     9.000000     2.000000  \n",
       "75%       3.000000    13.000000     7.000000  \n",
       "max       3.000000    17.000000     7.000000  "
      ]
     },
     "execution_count": 8,
     "metadata": {},
     "output_type": "execute_result"
    }
   ],
   "source": [
    "# 3. Exploring summary statistics:\n",
    "dat1.describe(include='all')"
   ]
  },
  {
   "cell_type": "markdown",
   "metadata": {},
   "source": [
    "### Calculating Specific Statistics\n",
    "\n",
    "---\n",
    "\n",
    "In the above code, we see a bunch of summary statistics for all of our variables (i.e. the columns). Let's try to narrow this down.\n",
    "\n",
    "You already saw how to highlight the first 10 rows of a DataFrame, let's now try something similar for the columns using the variable names. IMMBRIT is a question about perceptions on proportion of immigrants in Britain."
   ]
  },
  {
   "cell_type": "code",
   "execution_count": 9,
   "metadata": {},
   "outputs": [
    {
     "data": {
      "text/plain": [
       "count    1049.000000\n",
       "mean       29.030505\n",
       "std        21.063314\n",
       "min         0.000000\n",
       "25%        10.000000\n",
       "50%        25.000000\n",
       "75%        40.000000\n",
       "max       100.000000\n",
       "Name: IMMBRIT, dtype: float64"
      ]
     },
     "execution_count": 9,
     "metadata": {},
     "output_type": "execute_result"
    }
   ],
   "source": [
    "# 1. Describing one specific variable (say 'IMMBRIT'):\n",
    "dat1['IMMBRIT'].describe()"
   ]
  },
  {
   "cell_type": "code",
   "execution_count": 10,
   "metadata": {},
   "outputs": [
    {
     "data": {
      "text/html": [
       "<div>\n",
       "<style scoped>\n",
       "    .dataframe tbody tr th:only-of-type {\n",
       "        vertical-align: middle;\n",
       "    }\n",
       "\n",
       "    .dataframe tbody tr th {\n",
       "        vertical-align: top;\n",
       "    }\n",
       "\n",
       "    .dataframe thead th {\n",
       "        text-align: right;\n",
       "    }\n",
       "</style>\n",
       "<table border=\"1\" class=\"dataframe\">\n",
       "  <thead>\n",
       "    <tr style=\"text-align: right;\">\n",
       "      <th></th>\n",
       "      <th>IMMBRIT</th>\n",
       "      <th>over.estimate</th>\n",
       "    </tr>\n",
       "  </thead>\n",
       "  <tbody>\n",
       "    <tr>\n",
       "      <th>count</th>\n",
       "      <td>1049.000000</td>\n",
       "      <td>1049.000000</td>\n",
       "    </tr>\n",
       "    <tr>\n",
       "      <th>mean</th>\n",
       "      <td>29.030505</td>\n",
       "      <td>0.723546</td>\n",
       "    </tr>\n",
       "    <tr>\n",
       "      <th>std</th>\n",
       "      <td>21.063314</td>\n",
       "      <td>0.447457</td>\n",
       "    </tr>\n",
       "    <tr>\n",
       "      <th>min</th>\n",
       "      <td>0.000000</td>\n",
       "      <td>0.000000</td>\n",
       "    </tr>\n",
       "    <tr>\n",
       "      <th>25%</th>\n",
       "      <td>10.000000</td>\n",
       "      <td>0.000000</td>\n",
       "    </tr>\n",
       "    <tr>\n",
       "      <th>50%</th>\n",
       "      <td>25.000000</td>\n",
       "      <td>1.000000</td>\n",
       "    </tr>\n",
       "    <tr>\n",
       "      <th>75%</th>\n",
       "      <td>40.000000</td>\n",
       "      <td>1.000000</td>\n",
       "    </tr>\n",
       "    <tr>\n",
       "      <th>max</th>\n",
       "      <td>100.000000</td>\n",
       "      <td>1.000000</td>\n",
       "    </tr>\n",
       "  </tbody>\n",
       "</table>\n",
       "</div>"
      ],
      "text/plain": [
       "           IMMBRIT  over.estimate\n",
       "count  1049.000000    1049.000000\n",
       "mean     29.030505       0.723546\n",
       "std      21.063314       0.447457\n",
       "min       0.000000       0.000000\n",
       "25%      10.000000       0.000000\n",
       "50%      25.000000       1.000000\n",
       "75%      40.000000       1.000000\n",
       "max     100.000000       1.000000"
      ]
     },
     "execution_count": 10,
     "metadata": {},
     "output_type": "execute_result"
    }
   ],
   "source": [
    "# 2. Describing a subset of columns:\n",
    "dat1[['IMMBRIT', 'over.estimate']].describe()  # note the double square brackets!"
   ]
  },
  {
   "cell_type": "markdown",
   "metadata": {},
   "source": [
    "Always look at the data! Do you notice something odd? (hint: 0% or 100%)"
   ]
  },
  {
   "cell_type": "markdown",
   "metadata": {},
   "source": [
    "#### The Median"
   ]
  },
  {
   "cell_type": "markdown",
   "metadata": {},
   "source": [
    "The above cell includes the mean. Mean and median values can be indicative of the distribution's skewness. Large differences between them can suggest skewness. Let's examine this."
   ]
  },
  {
   "cell_type": "code",
   "execution_count": 11,
   "metadata": {},
   "outputs": [
    {
     "name": "stdout",
     "output_type": "stream",
     "text": [
      "IMMBRIT          29.030505\n",
      "over.estimate     0.723546\n",
      "dtype: float64 IMMBRIT          25.0\n",
      "over.estimate     1.0\n",
      "dtype: float64\n"
     ]
    }
   ],
   "source": [
    "# 1. Calculating the mean & median of one variable:\n",
    "mean_value = dat1['IMMBRIT'].mean()\n",
    "median_value = dat1['IMMBRIT'].median()\n",
    "\n",
    "# 2. Calculating the mean & median of a subset of columns:\n",
    "mean_value = dat1[['IMMBRIT', 'over.estimate']].mean()\n",
    "median_value = dat1[['IMMBRIT', 'over.estimate']].median()\n",
    "\n",
    "print(mean_value, median_value)"
   ]
  },
  {
   "cell_type": "markdown",
   "metadata": {},
   "source": [
    "Large differences between the median and mean could indicate that a variable is skewed: when a variable has extreme values or many 0s which drags the mean either side of the median. \n",
    "\n",
    "For example, we often refer to \"median incomes,\" even though income is a continuous variable. \n",
    "\n",
    "Here the median is used because the mean is dragged to the right by extremely wealthy outliers, while most incomes are in fact clustered at the lower end. \n",
    "\n",
    "The median income in the UK for 2014/15 was £473 per week. But for the mean, weekly income is placed at £581."
   ]
  },
  {
   "cell_type": "markdown",
   "metadata": {},
   "source": [
    "#### The Mode\n",
    "\n",
    "---\n",
    "\n",
    "Note that the above code does not include the mode. Python's `statistics` library can be used to calculate the mode.\n",
    "\n",
    "Additionally, for a more comprehensive understanding, a frequency table can be insightful too."
   ]
  },
  {
   "cell_type": "markdown",
   "metadata": {},
   "source": [
    "First, import the required function to caluclate the mode:"
   ]
  },
  {
   "cell_type": "code",
   "execution_count": 12,
   "metadata": {},
   "outputs": [],
   "source": [
    "from statistics import mode"
   ]
  },
  {
   "cell_type": "markdown",
   "metadata": {},
   "source": [
    "As we are only interested in this one function, we do not need to import the entire statistics package. That's why we use the `from .. import ..` notation here."
   ]
  },
  {
   "cell_type": "markdown",
   "metadata": {},
   "source": [
    "Let's find the mode of `party_self`, which indicates the party one most closely identifies with. Where,\n",
    "1. Conservative; \n",
    "2. Labour; \n",
    "3. SNP; \n",
    "4. Green; \n",
    "5. UKIP; \n",
    "6. BNP; \n",
    "7. Other"
   ]
  },
  {
   "cell_type": "code",
   "execution_count": 13,
   "metadata": {},
   "outputs": [
    {
     "data": {
      "text/plain": [
       "7"
      ]
     },
     "execution_count": 13,
     "metadata": {},
     "output_type": "execute_result"
    }
   ],
   "source": [
    "mode(dat1['party_self'])"
   ]
  },
  {
   "cell_type": "markdown",
   "metadata": {},
   "source": [
    "To give more context to the mode, we use frequency tables:"
   ]
  },
  {
   "cell_type": "code",
   "execution_count": 14,
   "metadata": {},
   "outputs": [
    {
     "data": {
      "text/plain": [
       "party_self\n",
       "7    383\n",
       "1    284\n",
       "2    280\n",
       "6     32\n",
       "5     31\n",
       "4     23\n",
       "3     16\n",
       "Name: count, dtype: int64"
      ]
     },
     "execution_count": 14,
     "metadata": {},
     "output_type": "execute_result"
    }
   ],
   "source": [
    "frequency_table = dat1['party_self'].value_counts()\n",
    "frequency_table"
   ]
  },
  {
   "cell_type": "markdown",
   "metadata": {},
   "source": [
    "## Dispersion\n",
    "\n",
    "---"
   ]
  },
  {
   "cell_type": "markdown",
   "metadata": {},
   "source": [
    "To find dispersion in ...\n",
    "- **categorical variables**: Use proportions or counts;\n",
    "- **ordinal data**: Use range, interquartile range (IQR), or median;\n",
    "- **continuous/count data**: Use mean, variance, or standard deviation.\n"
   ]
  },
  {
   "cell_type": "markdown",
   "metadata": {},
   "source": [
    "### Proportional Percentages "
   ]
  },
  {
   "cell_type": "markdown",
   "metadata": {},
   "source": [
    "In Python, proportional percentages can be calculated by normalizing the frequency table that we calculated above."
   ]
  },
  {
   "cell_type": "code",
   "execution_count": 15,
   "metadata": {},
   "outputs": [
    {
     "data": {
      "text/plain": [
       "party_self\n",
       "7    36.510963\n",
       "1    27.073403\n",
       "2    26.692088\n",
       "6     3.050524\n",
       "5     2.955195\n",
       "4     2.192564\n",
       "3     1.525262\n",
       "Name: proportion, dtype: float64"
      ]
     },
     "execution_count": 15,
     "metadata": {},
     "output_type": "execute_result"
    }
   ],
   "source": [
    "dat1['party_self'].value_counts(normalize=True) * 100"
   ]
  },
  {
   "cell_type": "markdown",
   "metadata": {},
   "source": [
    "Let's break down what is happening in the above code block in sequential steps:"
   ]
  },
  {
   "cell_type": "code",
   "execution_count": 16,
   "metadata": {},
   "outputs": [
    {
     "data": {
      "text/plain": [
       "party_self\n",
       "7    37.0\n",
       "1    27.0\n",
       "2    27.0\n",
       "6     3.0\n",
       "5     3.0\n",
       "4     2.0\n",
       "3     2.0\n",
       "Name: count, dtype: float64"
      ]
     },
     "execution_count": 16,
     "metadata": {},
     "output_type": "execute_result"
    }
   ],
   "source": [
    "# First, we create the frequency table:\n",
    "f_table = dat1['party_self'].value_counts()\n",
    "\n",
    "# Second, we transform this to percentages:\n",
    "percentages = f_table / sum(f_table)\n",
    "\n",
    "# Additionally, we can round the percentages to two decimal places and convert it to percentage format\n",
    "rounded_percentages = round(percentages, 2) * 100\n",
    "rounded_percentages"
   ]
  },
  {
   "cell_type": "markdown",
   "metadata": {},
   "source": [
    "### Range\n",
    "\n",
    "The variable `HHInc` stands for household income (in income brackets). To explore the range of household income (i.e. `HHInc`), we need two pieces of code,"
   ]
  },
  {
   "cell_type": "code",
   "execution_count": 17,
   "metadata": {},
   "outputs": [
    {
     "data": {
      "text/plain": [
       "count    1049.000000\n",
       "mean        9.586273\n",
       "std         4.639529\n",
       "min         1.000000\n",
       "25%         6.000000\n",
       "50%         9.000000\n",
       "75%        13.000000\n",
       "max        17.000000\n",
       "Name: HHInc, dtype: float64"
      ]
     },
     "execution_count": 17,
     "metadata": {},
     "output_type": "execute_result"
    }
   ],
   "source": [
    "# 1. The descriptives of 'HHInc':\n",
    "summary_HHInc = dat1['HHInc'].describe()\n",
    "summary_HHInc"
   ]
  },
  {
   "cell_type": "code",
   "execution_count": 18,
   "metadata": {},
   "outputs": [
    {
     "data": {
      "text/plain": [
       "16"
      ]
     },
     "execution_count": 18,
     "metadata": {},
     "output_type": "execute_result"
    }
   ],
   "source": [
    "# 2. The range, using the minimum and maximum values:\n",
    "range_HHInc = dat1['HHInc'].max() - dat1['HHInc'].min()\n",
    "range_HHInc"
   ]
  },
  {
   "cell_type": "markdown",
   "metadata": {},
   "source": [
    "#### Visually representing range dispersion\n",
    "\n",
    "The above code is not the best way to represent the range of values. Instead, we should use a boxplot. \n",
    "\n",
    "In Python, there is no standard way to plot data. Multiple packages exist with comparable functionality. It comes down to your project needs and personal preferences. Here we will use a combination of `seaborn` and `matplotlib` to visualize the dispersion range."
   ]
  },
  {
   "cell_type": "code",
   "execution_count": 19,
   "metadata": {},
   "outputs": [],
   "source": [
    "import matplotlib.pyplot as plt\n",
    "import seaborn as sns"
   ]
  },
  {
   "cell_type": "code",
   "execution_count": 20,
   "metadata": {},
   "outputs": [
    {
     "data": {
      "image/png": "[encoded data removed]",
      "text/plain": [
       "<Figure size 300x600 with 1 Axes>"
      ]
     },
     "metadata": {},
     "output_type": "display_data"
    }
   ],
   "source": [
    "# Creating a boxplot for 'HHInc'\n",
    "plt.figure(figsize=(3, 6))\n",
    "sns.boxplot(y=dat1['HHInc'], color='darkgray')\n",
    "\n",
    "# Customizing the plot\n",
    "plt.title(\"Income in the UK\")\n",
    "plt.ylabel(\"Income Index\")\n",
    "plt.gca().spines['top'].set_visible(False)\n",
    "plt.gca().spines['right'].set_visible(False)\n",
    "\n",
    "# Displaying the plot\n",
    "plt.show()"
   ]
  },
  {
   "cell_type": "markdown",
   "metadata": {},
   "source": [
    "Note that with plots we provide arguments to design the plot, which are seperated by commas. \n",
    "\n",
    "Here we have to select the variable within the data (using the square brackets) and the color we desire. \n",
    "\n",
    "We use `matplotlib` to add labels and remove the frame around the plot using the gca().spine functions.\n",
    "\n",
    "Finally, we display the plot. It displays within the box where 50% of the data can be found, between the 25% and 75% quartiles. The line within the box tells us the median. The two lines outside of the box show us the min and the max values."
   ]
  },
  {
   "cell_type": "markdown",
   "metadata": {},
   "source": [
    "Now make a boxplot for the variable age."
   ]
  },
  {
   "cell_type": "code",
   "execution_count": 21,
   "metadata": {},
   "outputs": [
    {
     "data": {
      "image/png": "[encoded data removed]",
      "text/plain": [
       "<Figure size 300x600 with 1 Axes>"
      ]
     },
     "metadata": {},
     "output_type": "display_data"
    }
   ],
   "source": [
    "Answer: # Creating a boxplot for 'Age'\n",
    "plt.figure(figsize=(3, 6))\n",
    "sns.boxplot(y=dat1['RAge'], color='darkgray')\n",
    "\n",
    "# Customizing the plot\n",
    "plt.title(\"Age in the UK\")\n",
    "plt.ylabel(\"Age numeric\")\n",
    "plt.gca().spines['top'].set_visible(False)\n",
    "plt.gca().spines['right'].set_visible(False)\n",
    "\n",
    "# Displaying the plot\n",
    "plt.show()"
   ]
  },
  {
   "cell_type": "markdown",
   "metadata": {},
   "source": [
    "A violin plot (below) plays a similar role as a box-and-whisker plot. It shows the distribution of data points (after grouping by one or more variables). Unlike a box plot, a violin is drawn using a kernel density estimate of the underlying distribution."
   ]
  },
  {
   "cell_type": "code",
   "execution_count": 22,
   "metadata": {},
   "outputs": [
    {
     "data": {
      "image/png": "[encoded data removed]",
      "text/plain": [
       "<Figure size 640x480 with 1 Axes>"
      ]
     },
     "metadata": {},
     "output_type": "display_data"
    }
   ],
   "source": [
    "sns.violinplot(y=dat1['HHInc'], color='darkgray')\n",
    "\n",
    "# Customizing the plot\n",
    "plt.title(\"Income in the UK\")\n",
    "plt.ylabel(\"Income Index\")\n",
    "plt.gca().spines['top'].set_visible(False)\n",
    "plt.gca().spines['right'].set_visible(False)\n",
    "\n",
    "plt.show()"
   ]
  },
  {
   "cell_type": "markdown",
   "metadata": {},
   "source": [
    "### Standard Deviation"
   ]
  },
  {
   "cell_type": "markdown",
   "metadata": {},
   "source": [
    "We must rely on yet another packages to calculate the standard deviation in Python. To this end,"
   ]
  },
  {
   "cell_type": "code",
   "execution_count": 23,
   "metadata": {},
   "outputs": [],
   "source": [
    "import numpy as np"
   ]
  },
  {
   "cell_type": "code",
   "execution_count": 24,
   "metadata": {},
   "outputs": [
    {
     "data": {
      "text/plain": [
       "21.053271753062834"
      ]
     },
     "execution_count": 24,
     "metadata": {},
     "output_type": "execute_result"
    }
   ],
   "source": [
    "# Calculating standard deviation for 'IMMBRIT':\n",
    "np.std(dat1['IMMBRIT'])"
   ]
  },
  {
   "cell_type": "code",
   "execution_count": 25,
   "metadata": {},
   "outputs": [
    {
     "data": {
      "text/plain": [
       "29.030505243088655"
      ]
     },
     "execution_count": 25,
     "metadata": {},
     "output_type": "execute_result"
    }
   ],
   "source": [
    "# Comparing with mean\n",
    "dat1['IMMBRIT'].mean()"
   ]
  },
  {
   "cell_type": "markdown",
   "metadata": {},
   "source": [
    "We see a lot of variation, but could be skewed.\n",
    "\n",
    "The mean is 29, but the standard deviation is 21... The distance from the mean is quite large. Larger differences in means equates to more variation."
   ]
  },
  {
   "cell_type": "code",
   "execution_count": 26,
   "metadata": {},
   "outputs": [
    {
     "data": {
      "image/png": "[encoded data removed]",
      "text/plain": [
       "<Figure size 800x600 with 1 Axes>"
      ]
     },
     "metadata": {},
     "output_type": "display_data"
    }
   ],
   "source": [
    "# Creating a density plot to understand skewness\n",
    "plt.figure(figsize=(8, 6))\n",
    "sns.kdeplot(dat1['IMMBRIT'], fill=True)\n",
    "plt.title(\"Density Plot of IMMBRIT\")\n",
    "plt.xlabel(\"IMMBRIT Values\")\n",
    "plt.show()"
   ]
  },
  {
   "cell_type": "markdown",
   "metadata": {},
   "source": [
    "We see that the distribution is skewed, leading the mean to be dragged to the right. For skewed distributions a better measure of central tendency would be the median:"
   ]
  },
  {
   "cell_type": "code",
   "execution_count": 27,
   "metadata": {},
   "outputs": [
    {
     "data": {
      "text/plain": [
       "25.0"
      ]
     },
     "execution_count": 27,
     "metadata": {},
     "output_type": "execute_result"
    }
   ],
   "source": [
    "dat1['IMMBRIT'].median()"
   ]
  },
  {
   "cell_type": "markdown",
   "metadata": {},
   "source": [
    "## Finding Relationships\n",
    "\n",
    "---"
   ]
  },
  {
   "cell_type": "markdown",
   "metadata": {},
   "source": [
    "We might hypothesise that there's a difference in the extent to which conservatives and labour supporters overestimate the proportion of immigrants. \n",
    "\n",
    "To this end, we can first seperate out conservative and labour voters from the rest of the options. Remember that our dataset contains the following parties:\n",
    "1. Conservative; \n",
    "2. Labour; \n",
    "3. SNP; \n",
    "4. Green; \n",
    "5. UKIP; \n",
    "6. BNP; \n",
    "7. Other:\n",
    "\n",
    "Thus, we create two new dummy variables using the `NumPy` function called where. This function checks a condition and returns a value based on whether this condition was met. We can use this by checking for party membership and returning 1 if true and 0 if false."
   ]
  },
  {
   "cell_type": "code",
   "execution_count": 28,
   "metadata": {},
   "outputs": [],
   "source": [
    "import numpy as np # not necessary if the above import was run"
   ]
  },
  {
   "cell_type": "code",
   "execution_count": 29,
   "metadata": {},
   "outputs": [],
   "source": [
    "dat1['conservatives'] = np.where(dat1['party_self'] == 1, 1, 0)\n",
    "dat1['labour'] = np.where(dat1['party_self'] == 2, 1, 0)"
   ]
  },
  {
   "cell_type": "markdown",
   "metadata": {},
   "source": [
    "To highlight our resulting dummies, we can examine frequencies of 1s and 0s:"
   ]
  },
  {
   "cell_type": "code",
   "execution_count": 30,
   "metadata": {},
   "outputs": [
    {
     "data": {
      "text/plain": [
       "conservatives\n",
       "0    765\n",
       "1    284\n",
       "Name: count, dtype: int64"
      ]
     },
     "execution_count": 30,
     "metadata": {},
     "output_type": "execute_result"
    }
   ],
   "source": [
    "dat1['conservatives'].value_counts()"
   ]
  },
  {
   "cell_type": "markdown",
   "metadata": {},
   "source": [
    "284 out of 1059... How unfortunate..."
   ]
  },
  {
   "cell_type": "code",
   "execution_count": 31,
   "metadata": {},
   "outputs": [
    {
     "data": {
      "text/plain": [
       "labour\n",
       "0    769\n",
       "1    280\n",
       "Name: count, dtype: int64"
      ]
     },
     "execution_count": 31,
     "metadata": {},
     "output_type": "execute_result"
    }
   ],
   "source": [
    "dat1['labour'].value_counts()"
   ]
  },
  {
   "cell_type": "markdown",
   "metadata": {},
   "source": [
    "Again, quite a lot (280), so we can gain a decent amount of insight (always be aware of limitations in your data)."
   ]
  },
  {
   "cell_type": "markdown",
   "metadata": {},
   "source": [
    "Let's create side-by-side boxplots for 'IMMBRIT' split by 'conservatives' and 'labour' to gain some insights into differences of perception:\n"
   ]
  },
  {
   "cell_type": "code",
   "execution_count": 32,
   "metadata": {},
   "outputs": [
    {
     "data": {
      "image/png": "[encoded data removed]",
      "text/plain": [
       "<Figure size 1200x600 with 2 Axes>"
      ]
     },
     "metadata": {},
     "output_type": "display_data"
    }
   ],
   "source": [
    "plt.figure(figsize=(12, 6))\n",
    "\n",
    "# Setting up the layout for multiple plots requires \n",
    "# specifying the y-axis limits for comparability!\n",
    "ylim = (0, 100)\n",
    "\n",
    "# First boxplot for 'conservatives'\n",
    "plt.subplot(1, 2, 1)  # 1 row, 2 columns, 1st plot\n",
    "sns.boxplot(y=dat1[dat1['conservatives'] == 1]['IMMBRIT'], color='blue')\n",
    "plt.title(\"Conservatives\")\n",
    "plt.xlabel(\"Conservatives\")\n",
    "plt.ylim(ylim)\n",
    "\n",
    "# Second boxplot for 'labour'\n",
    "plt.subplot(1, 2, 2)  # 1 row, 2 columns, 2nd plot\n",
    "sns.boxplot(y=dat1[dat1['labour'] == 1]['IMMBRIT'], color='red')\n",
    "plt.title(\"Labour\")\n",
    "plt.xlabel(\"Labour\")\n",
    "plt.ylim(ylim)\n",
    "\n",
    "plt.show()"
   ]
  },
  {
   "cell_type": "markdown",
   "metadata": {},
   "source": [
    "### Interpretation \n",
    "\n",
    "Overall, there are very little differences between Conservatives and Labour distributions. Both have outliers that overestimate number of migrants."
   ]
  },
  {
   "cell_type": "markdown",
   "metadata": {},
   "source": [
    "Of course, we would now like to investigate whether our sample was big enough to find any real effects, therefore falsifying our original hypothesis, or whether these results simply occured by chance. Next semster covers hypothesis testing, but for the curious few we already show you how to do this."
   ]
  }
 ],
 "metadata": {
  "kernelspec": {
   "display_name": "Python 3 (ipykernel)",
   "language": "python",
   "name": "python3"
  },
  "language_info": {
   "codemirror_mode": {
    "name": "ipython",
    "version": 3
   },
   "file_extension": ".py",
   "mimetype": "text/x-python",
   "name": "python",
   "nbconvert_exporter": "python",
   "pygments_lexer": "ipython3",
   "version": "3.10.13"
  }
 },
 "nbformat": 4,
 "nbformat_minor": 4
}
