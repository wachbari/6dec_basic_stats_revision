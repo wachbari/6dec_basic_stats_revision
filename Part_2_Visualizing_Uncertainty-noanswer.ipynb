{
 "cells": [
  {
   "cell_type": "markdown",
   "id": "133c9eba-f9b0-41bc-aba5-f642300d27d4",
   "metadata": {},
   "source": [
    "# Part 2: Visualizing Uncertainty\n",
    "\n",
    "---"
   ]
  },
  {
   "cell_type": "markdown",
   "id": "0715303a-3962-44f6-aa40-6539cd80b8ea",
   "metadata": {},
   "source": [
    "As before, let's clear our workspace. In Jupyter we do this be restarting our kernel to clear are variables. In your notebook, press the buttons `Restart Kernel` and `Clear All Outputs`."
   ]
  },
  {
   "cell_type": "code",
   "execution_count": 1,
   "id": "8d0cc3b9-9671-4b94-aba9-98959addde5f",
   "metadata": {},
   "outputs": [],
   "source": [
    "# Set the working directory (adapt the path to your directory)\n",
    "import os\n",
    "os.chdir(\"C:/Users/wachb/OneDrive - UvA/CSSci/Stats/revision/Notebooks/notebooks\") # put the data files in the same folder!"
   ]
  },
  {
   "cell_type": "markdown",
   "id": "b6218bc7-48c3-48bd-8f02-5e3ebf5f77db",
   "metadata": {},
   "source": [
    "## Importing Data\n",
    "\n",
    "---"
   ]
  },
  {
   "cell_type": "code",
   "execution_count": 2,
   "id": "293826e5-ee9d-49ff-8bbb-0dd07ea43d0f",
   "metadata": {},
   "outputs": [],
   "source": [
    "import pandas as pd  # always remember to import the right packagas\n",
    "dat2 = pd.read_csv(\"QoG2012.csv\")"
   ]
  },
  {
   "cell_type": "markdown",
   "id": "35eff54b-8801-427b-940b-9dea8383a4aa",
   "metadata": {},
   "source": [
    "For this session, we are interested in the variable `former_col`, which indicates a former colony (1) or not (0). And in the variable `wdi_gdpc`, which indicates GDP Per Capita from world development indicators.\n",
    "\n",
    "We will use these two variables to answer the question whether former colonialization and wealth are related. More specifically, we want to test if formerly colonized countries are less wealthy (at the time of data collection) than non-colonized countries.\n",
    "\n",
    "Lets start by looking at some example GDPs, to get a sense of our dataset:"
   ]
  },
  {
   "cell_type": "code",
   "execution_count": 3,
   "id": "0b434d51-40ec-4bb2-bc5c-ac999efd5186",
   "metadata": {},
   "outputs": [
    {
     "data": {
      "text/html": [
       "<div>\n",
       "<style scoped>\n",
       "    .dataframe tbody tr th:only-of-type {\n",
       "        vertical-align: middle;\n",
       "    }\n",
       "\n",
       "    .dataframe tbody tr th {\n",
       "        vertical-align: top;\n",
       "    }\n",
       "\n",
       "    .dataframe thead th {\n",
       "        text-align: right;\n",
       "    }\n",
       "</style>\n",
       "<table border=\"1\" class=\"dataframe\">\n",
       "  <thead>\n",
       "    <tr style=\"text-align: right;\">\n",
       "      <th></th>\n",
       "      <th>h_j</th>\n",
       "      <th>wdi_gdpc</th>\n",
       "      <th>undp_hdi</th>\n",
       "      <th>wbgi_cce</th>\n",
       "      <th>wbgi_pse</th>\n",
       "      <th>former_col</th>\n",
       "      <th>lp_lat_abst</th>\n",
       "    </tr>\n",
       "  </thead>\n",
       "  <tbody>\n",
       "    <tr>\n",
       "      <th>0</th>\n",
       "      <td>0.0</td>\n",
       "      <td>628.407410</td>\n",
       "      <td>NaN</td>\n",
       "      <td>-1.545358</td>\n",
       "      <td>-1.934384</td>\n",
       "      <td>0</td>\n",
       "      <td>0.366667</td>\n",
       "    </tr>\n",
       "    <tr>\n",
       "      <th>1</th>\n",
       "      <td>0.0</td>\n",
       "      <td>4954.198242</td>\n",
       "      <td>0.781</td>\n",
       "      <td>-0.853812</td>\n",
       "      <td>-0.602608</td>\n",
       "      <td>0</td>\n",
       "      <td>0.455556</td>\n",
       "    </tr>\n",
       "    <tr>\n",
       "      <th>2</th>\n",
       "      <td>0.0</td>\n",
       "      <td>6349.720703</td>\n",
       "      <td>0.704</td>\n",
       "      <td>-0.730151</td>\n",
       "      <td>-1.733624</td>\n",
       "      <td>1</td>\n",
       "      <td>0.311111</td>\n",
       "    </tr>\n",
       "    <tr>\n",
       "      <th>3</th>\n",
       "      <td>NaN</td>\n",
       "      <td>NaN</td>\n",
       "      <td>NaN</td>\n",
       "      <td>1.326734</td>\n",
       "      <td>1.198044</td>\n",
       "      <td>0</td>\n",
       "      <td>0.470000</td>\n",
       "    </tr>\n",
       "    <tr>\n",
       "      <th>4</th>\n",
       "      <td>0.0</td>\n",
       "      <td>2856.751709</td>\n",
       "      <td>0.381</td>\n",
       "      <td>-1.206574</td>\n",
       "      <td>-1.415094</td>\n",
       "      <td>1</td>\n",
       "      <td>0.136667</td>\n",
       "    </tr>\n",
       "  </tbody>\n",
       "</table>\n",
       "</div>"
      ],
      "text/plain": [
       "   h_j     wdi_gdpc  undp_hdi  wbgi_cce  wbgi_pse  former_col  lp_lat_abst\n",
       "0  0.0   628.407410       NaN -1.545358 -1.934384           0     0.366667\n",
       "1  0.0  4954.198242     0.781 -0.853812 -0.602608           0     0.455556\n",
       "2  0.0  6349.720703     0.704 -0.730151 -1.733624           1     0.311111\n",
       "3  NaN          NaN       NaN  1.326734  1.198044           0     0.470000\n",
       "4  0.0  2856.751709     0.381 -1.206574 -1.415094           1     0.136667"
      ]
     },
     "execution_count": 3,
     "metadata": {},
     "output_type": "execute_result"
    }
   ],
   "source": [
    "dat2.head()"
   ]
  },
  {
   "cell_type": "markdown",
   "id": "e39817d5-ac51-45ff-ad00-cea3d35d994e",
   "metadata": {},
   "source": [
    "To highlight countries that were a former colony, we can use:"
   ]
  },
  {
   "cell_type": "code",
   "execution_count": 4,
   "id": "84073c79-8d68-477f-a407-d0a4fc83cee8",
   "metadata": {},
   "outputs": [
    {
     "data": {
      "text/html": [
       "<div>\n",
       "<style scoped>\n",
       "    .dataframe tbody tr th:only-of-type {\n",
       "        vertical-align: middle;\n",
       "    }\n",
       "\n",
       "    .dataframe tbody tr th {\n",
       "        vertical-align: top;\n",
       "    }\n",
       "\n",
       "    .dataframe thead th {\n",
       "        text-align: right;\n",
       "    }\n",
       "</style>\n",
       "<table border=\"1\" class=\"dataframe\">\n",
       "  <thead>\n",
       "    <tr style=\"text-align: right;\">\n",
       "      <th></th>\n",
       "      <th>h_j</th>\n",
       "      <th>wdi_gdpc</th>\n",
       "      <th>undp_hdi</th>\n",
       "      <th>wbgi_cce</th>\n",
       "      <th>wbgi_pse</th>\n",
       "      <th>former_col</th>\n",
       "      <th>lp_lat_abst</th>\n",
       "    </tr>\n",
       "  </thead>\n",
       "  <tbody>\n",
       "    <tr>\n",
       "      <th>2</th>\n",
       "      <td>0.0</td>\n",
       "      <td>6349.720703</td>\n",
       "      <td>0.704</td>\n",
       "      <td>-0.730151</td>\n",
       "      <td>-1.733624</td>\n",
       "      <td>1</td>\n",
       "      <td>0.311111</td>\n",
       "    </tr>\n",
       "    <tr>\n",
       "      <th>4</th>\n",
       "      <td>0.0</td>\n",
       "      <td>2856.751709</td>\n",
       "      <td>0.381</td>\n",
       "      <td>-1.206574</td>\n",
       "      <td>-1.415094</td>\n",
       "      <td>1</td>\n",
       "      <td>0.136667</td>\n",
       "    </tr>\n",
       "    <tr>\n",
       "      <th>5</th>\n",
       "      <td>NaN</td>\n",
       "      <td>13981.979492</td>\n",
       "      <td>0.800</td>\n",
       "      <td>0.862437</td>\n",
       "      <td>0.708405</td>\n",
       "      <td>1</td>\n",
       "      <td>0.189222</td>\n",
       "    </tr>\n",
       "    <tr>\n",
       "      <th>7</th>\n",
       "      <td>0.0</td>\n",
       "      <td>8584.885742</td>\n",
       "      <td>0.853</td>\n",
       "      <td>-0.726461</td>\n",
       "      <td>-1.036121</td>\n",
       "      <td>1</td>\n",
       "      <td>0.377778</td>\n",
       "    </tr>\n",
       "    <tr>\n",
       "      <th>10</th>\n",
       "      <td>NaN</td>\n",
       "      <td>NaN</td>\n",
       "      <td>0.815</td>\n",
       "      <td>1.439611</td>\n",
       "      <td>0.868442</td>\n",
       "      <td>1</td>\n",
       "      <td>0.268333</td>\n",
       "    </tr>\n",
       "  </tbody>\n",
       "</table>\n",
       "</div>"
      ],
      "text/plain": [
       "    h_j      wdi_gdpc  undp_hdi  wbgi_cce  wbgi_pse  former_col  lp_lat_abst\n",
       "2   0.0   6349.720703     0.704 -0.730151 -1.733624           1     0.311111\n",
       "4   0.0   2856.751709     0.381 -1.206574 -1.415094           1     0.136667\n",
       "5   NaN  13981.979492     0.800  0.862437  0.708405           1     0.189222\n",
       "7   0.0   8584.885742     0.853 -0.726461 -1.036121           1     0.377778\n",
       "10  NaN           NaN     0.815  1.439611  0.868442           1     0.268333"
      ]
     },
     "execution_count": 4,
     "metadata": {},
     "output_type": "execute_result"
    }
   ],
   "source": [
    "dat2[dat2['former_col']==1].head()  # note the column former_col below"
   ]
  },
  {
   "cell_type": "markdown",
   "id": "ca5389f1-7a9a-4229-9dfa-94fb26a6d082",
   "metadata": {},
   "source": [
    "Of course, we cannot draw conclusions from a couple of example data entries. To say anything meaningful, some visuals are useful. As a baseline, we want these visuals to show mean (i.e. average) GDP of formerly colonized countries vs non-colonized countries.\n",
    "\n",
    "Let's give this a try ..."
   ]
  },
  {
   "cell_type": "code",
   "execution_count": 5,
   "id": "4a9bfc98-3b4c-4d88-a02a-2288a969b452",
   "metadata": {},
   "outputs": [],
   "source": [
    "# Lets first extract the wdi_gdpc variable:\n",
    "gdp_per_country = dat2['wdi_gdpc']\n",
    "gdp_col = gdp_per_country[dat2['former_col']==1] # gdp of colonized countries\n",
    "gdp_not_col = gdp_per_country[dat2['former_col']==0]"
   ]
  },
  {
   "cell_type": "code",
   "execution_count": 6,
   "id": "0921bb6a-7a8f-4d6e-96b1-dd3beb1954ec",
   "metadata": {},
   "outputs": [
    {
     "name": "stdout",
     "output_type": "stream",
     "text": [
      "Mean GDP: \n",
      "Formerly colonized: 6599.71420976757, \n",
      "Not colonized: 16415.39229736328\n"
     ]
    }
   ],
   "source": [
    "# We now use this variable to obtain means:\n",
    "import numpy as np\n",
    "mean_gdp_col = np.mean(gdp_col)\n",
    "mean_gdp_not_col = np.mean(gdp_not_col)\n",
    "\n",
    "print(f'Mean GDP: \\nFormerly colonized: {mean_gdp_col}, \\nNot colonized: {mean_gdp_not_col}')"
   ]
  },
  {
   "cell_type": "code",
   "execution_count": 7,
   "id": "3e94ac80-94ae-401b-87e8-d49ceba99159",
   "metadata": {},
   "outputs": [
    {
     "data": {
      "image/png": "[encoded data removed]",
      "text/plain": [
       "<Figure size 400x400 with 1 Axes>"
      ]
     },
     "metadata": {},
     "output_type": "display_data"
    }
   ],
   "source": [
    "# Then plot the stored means as a barchart:\n",
    "import matplotlib.pyplot as plt\n",
    "\n",
    "plt.figure(figsize=(4, 4))\n",
    "plt.bar(\n",
    "    [1, 2], \n",
    "    [mean_gdp_col, mean_gdp_not_col],\n",
    "    color=['green', 'red']\n",
    ")\n",
    "plt.xticks([1, 2], ['Formerly Colonized', 'Not Colonized']) # x-axis labels\n",
    "plt.ylabel('Mean GDP')\n",
    "plt.show()"
   ]
  },
  {
   "cell_type": "markdown",
   "id": "9c8db0d2-0d2e-4b16-8c35-b24d45186fcc",
   "metadata": {},
   "source": [
    "We can immediately see a whopping difference. \n",
    "\n",
    "Very depressing... \n",
    "\n",
    "It is important to validate that these results were not due to poor data or that the differences emerged by chance. To understand uncertainty a bit better, we can use confidence intervals. Confidence intervals tell us with 95% confidence that our estimates lay in-between two values."
   ]
  },
  {
   "cell_type": "markdown",
   "id": "b2fd9811-bccd-42bb-89d0-6955c6fcd9e1",
   "metadata": {},
   "source": [
    "### Some Mathematical Concepts\n",
    "\n",
    "---\n",
    "\n",
    "Before we can derive a confidence interval, we need to cover some underlying mathematical concepts."
   ]
  },
  {
   "cell_type": "markdown",
   "id": "abf575cc-3b33-4de3-bb69-8fb2cd390b04",
   "metadata": {},
   "source": [
    "We let $X$ be our population of interest. In particular, this means that $X$ contains every country of the world.\n",
    "\n",
    "Then, we let the values $x_1, x_2, ..., x_n$ be independent samples taken from $X$, where $n$ equals the total number of samples in our dataset. \n",
    "\n",
    "In particular, these values are all the GDPs that are present in our dataset.\n",
    "\n",
    "We define our sample's mean (i.e. estimated mean gdp) as: $$\\bar{x} = {x_1, ..., x_n \\over n}$$\n",
    "\n",
    "And our sample's variance as: $$\\sigma^2= {\\sum^{n}_{i=1}(x_i-\\bar{x})^2 \\over n-1} $$\n",
    "\n",
    "Using this definition of the variance, we can now define our sample's standard deviation: $$\\sigma = \\sqrt{\\sigma^2}$$\n",
    "\n",
    "We can now obtain our standard error: $$SE = {\\sigma \\over \\sqrt{n}}$$\n",
    "\n",
    "Finally, we can define a 95% confidence interval of a mean as: $$\\bar{x} \\pm 1.96 * SE $$\n",
    "\n",
    "Note, the 1.96 originates from the normal distribution."
   ]
  },
  {
   "cell_type": "markdown",
   "id": "042b565a-54dd-4797-96bf-2d8769fcb3fb",
   "metadata": {},
   "source": [
    "### Math in Python\n",
    "\n",
    "---"
   ]
  },
  {
   "cell_type": "markdown",
   "id": "c2a1d2fc-7c5d-4ffd-9f46-6a5472f238f2",
   "metadata": {},
   "source": [
    "Depending on your background, all this math might be a little intimidating. Luckily, you will probably never use these formulas. However, make sure you have a grasp of them, because as a researcher you should always know what you are doing.\n",
    "\n",
    "To give you a more practical perspective though, let's return to our dataset and use Python to define find these terms for us:"
   ]
  },
  {
   "cell_type": "code",
   "execution_count": 8,
   "id": "d7838700-1753-4259-92f1-7ed5d02809b2",
   "metadata": {},
   "outputs": [],
   "source": [
    "# Means (see above): type your answer here."
   ]
  },
  {
   "cell_type": "code",
   "execution_count": 9,
   "id": "3f743177-7031-428f-b095-2ea37b0ab4a4",
   "metadata": {},
   "outputs": [],
   "source": [
    "# Variance: type your answer here."
   ]
  },
  {
   "cell_type": "code",
   "execution_count": 10,
   "id": "af56f0d0-6eb0-4632-9b70-74376ae283f0",
   "metadata": {},
   "outputs": [],
   "source": [
    "# Standard deviation: type your answer here."
   ]
  },
  {
   "cell_type": "code",
   "execution_count": 11,
   "id": "00ca5704-fc70-4c23-9947-8a70873f9e0b",
   "metadata": {},
   "outputs": [
    {
     "ename": "NameError",
     "evalue": "name 'std_gdp_col' is not defined",
     "output_type": "error",
     "traceback": [
      "\u001b[1;31m---------------------------------------------------------------------------\u001b[0m",
      "\u001b[1;31mNameError\u001b[0m                                 Traceback (most recent call last)",
      "Cell \u001b[1;32mIn[11], line 2\u001b[0m\n\u001b[0;32m      1\u001b[0m \u001b[38;5;66;03m# Standard errors:\u001b[39;00m\n\u001b[1;32m----> 2\u001b[0m se_gdp_col \u001b[38;5;241m=\u001b[39m \u001b[43mstd_gdp_col\u001b[49m \u001b[38;5;241m/\u001b[39m np\u001b[38;5;241m.\u001b[39msqrt(\u001b[38;5;28mlen\u001b[39m(gdp_col))\n\u001b[0;32m      3\u001b[0m se_gdp_not_col \u001b[38;5;241m=\u001b[39m std_gdp_not_col \u001b[38;5;241m/\u001b[39m np\u001b[38;5;241m.\u001b[39msqrt(\u001b[38;5;28mlen\u001b[39m(gdp_not_col))\n\u001b[0;32m      4\u001b[0m \u001b[38;5;28mprint\u001b[39m(se_gdp_col, se_gdp_not_col)\n",
      "\u001b[1;31mNameError\u001b[0m: name 'std_gdp_col' is not defined"
     ]
    }
   ],
   "source": [
    "# Standard errors: (note that without standard deviation this code doesn't work!)\n",
    "se_gdp_col = std_gdp_col / np.sqrt(len(gdp_col))\n",
    "se_gdp_not_col = std_gdp_not_col / np.sqrt(len(gdp_not_col))\n",
    "print(se_gdp_col, se_gdp_not_col)"
   ]
  },
  {
   "cell_type": "markdown",
   "id": "15f15531-7184-4461-bc76-aa1c2b02d11a",
   "metadata": {},
   "source": [
    "Now then, all of this was necessary to say something about the errors in our dataset. To be scientific, we should always include error bars in barcharts. Error bars rely on the properties of standard error and tell us whether we are 95% of the times confident that our mean estimates lay between the lower and upper bound values. \n",
    "\n",
    "The interpretation of confidence is hard and nuanced. But as a general rule of thumb: if two estimates have large and overlapping confidence intervals, then we should assume that the two estimates can **not** be distinguished from each-other based on our data.\n",
    "\n",
    "Let's visualize this in our barchart from before:"
   ]
  },
  {
   "cell_type": "code",
   "execution_count": 12,
   "id": "a15ac48c-2b81-4bec-818f-1c82911d9483",
   "metadata": {},
   "outputs": [
    {
     "ename": "NameError",
     "evalue": "name 'se_gdp_col' is not defined",
     "output_type": "error",
     "traceback": [
      "\u001b[1;31m---------------------------------------------------------------------------\u001b[0m",
      "\u001b[1;31mNameError\u001b[0m                                 Traceback (most recent call last)",
      "Cell \u001b[1;32mIn[12], line 2\u001b[0m\n\u001b[0;32m      1\u001b[0m \u001b[38;5;66;03m# 95% confidence intervals are defined by +/- 1.96*SE\u001b[39;00m\n\u001b[1;32m----> 2\u001b[0m ci_col \u001b[38;5;241m=\u001b[39m \u001b[38;5;241m1.96\u001b[39m \u001b[38;5;241m*\u001b[39m \u001b[43mse_gdp_col\u001b[49m\n\u001b[0;32m      3\u001b[0m ci_not_col \u001b[38;5;241m=\u001b[39m \u001b[38;5;241m1.96\u001b[39m \u001b[38;5;241m*\u001b[39m se_gdp_not_col\n",
      "\u001b[1;31mNameError\u001b[0m: name 'se_gdp_col' is not defined"
     ]
    }
   ],
   "source": [
    "# 95% confidence intervals are defined by +/- 1.96*SE (note that without standard error this code doesn't work!)\n",
    "ci_col = 1.96 * se_gdp_col\n",
    "ci_not_col = 1.96 * se_gdp_not_col"
   ]
  },
  {
   "cell_type": "code",
   "execution_count": 13,
   "id": "b55ad2b6-377e-4da1-8a6a-ee000516412c",
   "metadata": {},
   "outputs": [
    {
     "name": "stdout",
     "output_type": "stream",
     "text": [
      "With 95% confidence, our mean GDPs lay between ...\n"
     ]
    },
    {
     "ename": "NameError",
     "evalue": "name 'ci_col' is not defined",
     "output_type": "error",
     "traceback": [
      "\u001b[1;31m---------------------------------------------------------------------------\u001b[0m",
      "\u001b[1;31mNameError\u001b[0m                                 Traceback (most recent call last)",
      "Cell \u001b[1;32mIn[13], line 2\u001b[0m\n\u001b[0;32m      1\u001b[0m \u001b[38;5;28mprint\u001b[39m(\u001b[38;5;124m'\u001b[39m\u001b[38;5;124mWith 95\u001b[39m\u001b[38;5;132;01m% c\u001b[39;00m\u001b[38;5;124monfidence, our mean GDPs lay between ...\u001b[39m\u001b[38;5;124m'\u001b[39m)\n\u001b[1;32m----> 2\u001b[0m \u001b[38;5;28mprint\u001b[39m(\u001b[38;5;124mf\u001b[39m\u001b[38;5;124m'\u001b[39m\u001b[38;5;132;01m{\u001b[39;00m[mean_gdp_col\u001b[38;5;250m \u001b[39m\u001b[38;5;241m-\u001b[39m\u001b[38;5;250m \u001b[39mci_col,\u001b[38;5;250m \u001b[39mmean_gdp_col\u001b[38;5;250m \u001b[39m\u001b[38;5;241m+\u001b[39m\u001b[38;5;250m \u001b[39mci_col]\u001b[38;5;132;01m}\u001b[39;00m\u001b[38;5;124m for formerly colonized countries\u001b[39m\u001b[38;5;124m'\u001b[39m)\n\u001b[0;32m      3\u001b[0m \u001b[38;5;28mprint\u001b[39m(\u001b[38;5;124mf\u001b[39m\u001b[38;5;124m'\u001b[39m\u001b[38;5;132;01m{\u001b[39;00m[mean_gdp_not_col\u001b[38;5;250m \u001b[39m\u001b[38;5;241m-\u001b[39m\u001b[38;5;250m \u001b[39mci_not_col,\u001b[38;5;250m \u001b[39mmean_gdp_not_col\u001b[38;5;250m \u001b[39m\u001b[38;5;241m+\u001b[39m\u001b[38;5;250m \u001b[39mci_not_col]\u001b[38;5;132;01m}\u001b[39;00m\u001b[38;5;124m for non-colonized countries\u001b[39m\u001b[38;5;124m'\u001b[39m)\n",
      "\u001b[1;31mNameError\u001b[0m: name 'ci_col' is not defined"
     ]
    }
   ],
   "source": [
    "print('With 95% confidence, our mean GDPs lay between ...') #(idem)\n",
    "print(f'{[mean_gdp_col - ci_col, mean_gdp_col + ci_col]} for formerly colonized countries')\n",
    "print(f'{[mean_gdp_not_col - ci_not_col, mean_gdp_not_col + ci_not_col]} for non-colonized countries')"
   ]
  },
  {
   "cell_type": "code",
   "execution_count": 15,
   "id": "ea63c11e-73f4-4e4f-b307-f906538df225",
   "metadata": {},
   "outputs": [
    {
     "ename": "NameError",
     "evalue": "name 'ci_col' is not defined",
     "output_type": "error",
     "traceback": [
      "\u001b[1;31m---------------------------------------------------------------------------\u001b[0m",
      "\u001b[1;31mNameError\u001b[0m                                 Traceback (most recent call last)",
      "Cell \u001b[1;32mIn[15], line 11\u001b[0m\n\u001b[0;32m      2\u001b[0m plt\u001b[38;5;241m.\u001b[39mfigure(figsize\u001b[38;5;241m=\u001b[39m(\u001b[38;5;241m4\u001b[39m, \u001b[38;5;241m4\u001b[39m))\n\u001b[0;32m      3\u001b[0m plt\u001b[38;5;241m.\u001b[39mbar(\n\u001b[0;32m      4\u001b[0m     [\u001b[38;5;241m1\u001b[39m, \u001b[38;5;241m2\u001b[39m], \n\u001b[0;32m      5\u001b[0m     [mean_gdp_col, mean_gdp_not_col],\n\u001b[0;32m      6\u001b[0m     color\u001b[38;5;241m=\u001b[39m[\u001b[38;5;124m'\u001b[39m\u001b[38;5;124mgreen\u001b[39m\u001b[38;5;124m'\u001b[39m, \u001b[38;5;124m'\u001b[39m\u001b[38;5;124mred\u001b[39m\u001b[38;5;124m'\u001b[39m]\n\u001b[0;32m      7\u001b[0m )\n\u001b[0;32m      8\u001b[0m plt\u001b[38;5;241m.\u001b[39merrorbar(\n\u001b[0;32m      9\u001b[0m     [\u001b[38;5;241m1\u001b[39m, \u001b[38;5;241m2\u001b[39m],  \u001b[38;5;66;03m# error bar locations on x-axis \u001b[39;00m\n\u001b[0;32m     10\u001b[0m     [mean_gdp_col, mean_gdp_not_col],  \u001b[38;5;66;03m# error bar center on y-axis\u001b[39;00m\n\u001b[1;32m---> 11\u001b[0m     yerr\u001b[38;5;241m=\u001b[39m[\u001b[43mci_col\u001b[49m, ci_not_col],  \u001b[38;5;66;03m# the plus-minus values of 95%CI \u001b[39;00m\n\u001b[0;32m     12\u001b[0m     fmt\u001b[38;5;241m=\u001b[39m\u001b[38;5;124m'\u001b[39m\u001b[38;5;124mo\u001b[39m\u001b[38;5;124m'\u001b[39m,  \u001b[38;5;66;03m# shape of the center \u001b[39;00m\n\u001b[0;32m     13\u001b[0m     capsize\u001b[38;5;241m=\u001b[39m\u001b[38;5;241m4\u001b[39m, color\u001b[38;5;241m=\u001b[39m\u001b[38;5;124m'\u001b[39m\u001b[38;5;124mblack\u001b[39m\u001b[38;5;124m'\u001b[39m)\n\u001b[0;32m     14\u001b[0m plt\u001b[38;5;241m.\u001b[39mtitle(\u001b[38;5;124m\"\u001b[39m\u001b[38;5;124mMeans with 95\u001b[39m\u001b[38;5;124m%\u001b[39m\u001b[38;5;124m CI\u001b[39m\u001b[38;5;124m\"\u001b[39m)\n\u001b[0;32m     15\u001b[0m plt\u001b[38;5;241m.\u001b[39mxticks([\u001b[38;5;241m1\u001b[39m, \u001b[38;5;241m2\u001b[39m], [\u001b[38;5;124m'\u001b[39m\u001b[38;5;124mFormerly Colonized\u001b[39m\u001b[38;5;124m'\u001b[39m, \u001b[38;5;124m'\u001b[39m\u001b[38;5;124mNot Colonized\u001b[39m\u001b[38;5;124m'\u001b[39m]) \u001b[38;5;66;03m# x-axis labels\u001b[39;00m\n",
      "\u001b[1;31mNameError\u001b[0m: name 'ci_col' is not defined"
     ]
    },
    {
     "data": {
      "image/png": "[encoded data removed]",
      "text/plain": [
       "<Figure size 400x400 with 1 Axes>"
      ]
     },
     "metadata": {},
     "output_type": "display_data"
    }
   ],
   "source": [
    "# Visually, we can map this onto our barchart from before: #(idem)\n",
    "plt.figure(figsize=(4, 4))\n",
    "plt.bar(\n",
    "    [1, 2], \n",
    "    [mean_gdp_col, mean_gdp_not_col],\n",
    "    color=['green', 'red']\n",
    ")\n",
    "plt.errorbar(\n",
    "    [1, 2],  # error bar locations on x-axis \n",
    "    [mean_gdp_col, mean_gdp_not_col],  # error bar center on y-axis\n",
    "    yerr=[ci_col, ci_not_col],  # the plus-minus values of 95%CI \n",
    "    fmt='o',  # shape of the center \n",
    "    capsize=4, color='black')\n",
    "plt.title(\"Means with 95% CI\")\n",
    "plt.xticks([1, 2], ['Formerly Colonized', 'Not Colonized']) # x-axis labels\n",
    "plt.ylabel('GDP Per Capita')\n",
    "plt.show()"
   ]
  },
  {
   "cell_type": "markdown",
   "id": "9d515ab9-c42b-478a-b8de-04fef3d63b64",
   "metadata": {},
   "source": [
    "What can we conclude from this graph?"
   ]
  },
  {
   "cell_type": "code",
   "execution_count": null,
   "id": "e55bcaff-03f9-4cf6-ae31-263c78d997fe",
   "metadata": {},
   "outputs": [],
   "source": []
  }
 ],
 "metadata": {
  "kernelspec": {
   "display_name": "Python 3 (ipykernel)",
   "language": "python",
   "name": "python3"
  },
  "language_info": {
   "codemirror_mode": {
    "name": "ipython",
    "version": 3
   },
   "file_extension": ".py",
   "mimetype": "text/x-python",
   "name": "python",
   "nbconvert_exporter": "python",
   "pygments_lexer": "ipython3",
   "version": "3.10.13"
  }
 },
 "nbformat": 4,
 "nbformat_minor": 5
}
