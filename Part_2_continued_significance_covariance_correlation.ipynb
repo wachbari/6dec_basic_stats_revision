{
 "cells": [
  {
   "cell_type": "markdown",
   "metadata": {},
   "source": [
    "# Part 2 continued: Significance Tests, Covariance, and Correlation\n",
    "\n",
    "---"
   ]
  },
  {
   "cell_type": "markdown",
   "metadata": {},
   "source": [
    "As before, let's clear our workspace. In Jupyter we do this be restarting our kernel to clear are variables. In your notebook, press the buttons `Restart Kernel` and `Clear All Outputs`."
   ]
  },
  {
   "cell_type": "code",
   "execution_count": 28,
   "metadata": {},
   "outputs": [],
   "source": [
    "# Set the working directory (adapt the path to your directory)\n",
    "import os\n",
    "os.chdir(\"C:/Users/wachb/OneDrive - UvA/CSSci/Stats/revision/Notebooks/notebooks\") # put the data files in the same folder!"
   ]
  },
  {
   "cell_type": "markdown",
   "metadata": {},
   "source": [
    "## Importing Data\n",
    "\n",
    "---"
   ]
  },
  {
   "cell_type": "code",
   "execution_count": 1,
   "metadata": {},
   "outputs": [
    {
     "data": {
      "text/html": [
       "<div>\n",
       "<style scoped>\n",
       "    .dataframe tbody tr th:only-of-type {\n",
       "        vertical-align: middle;\n",
       "    }\n",
       "\n",
       "    .dataframe tbody tr th {\n",
       "        vertical-align: top;\n",
       "    }\n",
       "\n",
       "    .dataframe thead th {\n",
       "        text-align: right;\n",
       "    }\n",
       "</style>\n",
       "<table border=\"1\" class=\"dataframe\">\n",
       "  <thead>\n",
       "    <tr style=\"text-align: right;\">\n",
       "      <th></th>\n",
       "      <th>h_j</th>\n",
       "      <th>wdi_gdpc</th>\n",
       "      <th>undp_hdi</th>\n",
       "      <th>wbgi_cce</th>\n",
       "      <th>wbgi_pse</th>\n",
       "      <th>former_col</th>\n",
       "      <th>lp_lat_abst</th>\n",
       "    </tr>\n",
       "  </thead>\n",
       "  <tbody>\n",
       "    <tr>\n",
       "      <th>0</th>\n",
       "      <td>0.0</td>\n",
       "      <td>628.407410</td>\n",
       "      <td>NaN</td>\n",
       "      <td>-1.545358</td>\n",
       "      <td>-1.934384</td>\n",
       "      <td>0</td>\n",
       "      <td>0.366667</td>\n",
       "    </tr>\n",
       "    <tr>\n",
       "      <th>1</th>\n",
       "      <td>0.0</td>\n",
       "      <td>4954.198242</td>\n",
       "      <td>0.781</td>\n",
       "      <td>-0.853812</td>\n",
       "      <td>-0.602608</td>\n",
       "      <td>0</td>\n",
       "      <td>0.455556</td>\n",
       "    </tr>\n",
       "    <tr>\n",
       "      <th>2</th>\n",
       "      <td>0.0</td>\n",
       "      <td>6349.720703</td>\n",
       "      <td>0.704</td>\n",
       "      <td>-0.730151</td>\n",
       "      <td>-1.733624</td>\n",
       "      <td>1</td>\n",
       "      <td>0.311111</td>\n",
       "    </tr>\n",
       "    <tr>\n",
       "      <th>3</th>\n",
       "      <td>NaN</td>\n",
       "      <td>NaN</td>\n",
       "      <td>NaN</td>\n",
       "      <td>1.326734</td>\n",
       "      <td>1.198044</td>\n",
       "      <td>0</td>\n",
       "      <td>0.470000</td>\n",
       "    </tr>\n",
       "    <tr>\n",
       "      <th>4</th>\n",
       "      <td>0.0</td>\n",
       "      <td>2856.751709</td>\n",
       "      <td>0.381</td>\n",
       "      <td>-1.206574</td>\n",
       "      <td>-1.415094</td>\n",
       "      <td>1</td>\n",
       "      <td>0.136667</td>\n",
       "    </tr>\n",
       "  </tbody>\n",
       "</table>\n",
       "</div>"
      ],
      "text/plain": [
       "   h_j     wdi_gdpc  undp_hdi  wbgi_cce  wbgi_pse  former_col  lp_lat_abst\n",
       "0  0.0   628.407410       NaN -1.545358 -1.934384           0     0.366667\n",
       "1  0.0  4954.198242     0.781 -0.853812 -0.602608           0     0.455556\n",
       "2  0.0  6349.720703     0.704 -0.730151 -1.733624           1     0.311111\n",
       "3  NaN          NaN       NaN  1.326734  1.198044           0     0.470000\n",
       "4  0.0  2856.751709     0.381 -1.206574 -1.415094           1     0.136667"
      ]
     },
     "execution_count": 1,
     "metadata": {},
     "output_type": "execute_result"
    }
   ],
   "source": [
    "import pandas as pd  # always remember to import the right packagas\n",
    "dat2 = pd.read_csv(\"QoG2012.csv\")\n",
    "dat2[:5]  # let's look at the first 5 rows..."
   ]
  },
  {
   "cell_type": "markdown",
   "metadata": {},
   "source": [
    "## Conditional Means & T-Tests\n",
    "\n",
    "---"
   ]
  },
  {
   "cell_type": "markdown",
   "metadata": {},
   "source": [
    "We now move on to testing testing the significance of our estimates. A significance test always involves testing against a null-hypothesis, $H_0$. For example, $H_0:$ *our two sample means are the same*. If the results of our test are then significant, we reject $H_0$ and draw the conclusion that our two means are different."
   ]
  },
  {
   "cell_type": "markdown",
   "metadata": {},
   "source": [
    "The tests we will conduct are t-tests, which can be either 1-sided or 2-sided. If $H_0$: *our sample means are the same*, the a 1-sided t-test will only reject this hypothesis if one of the means is *either* lower *or* higher, which we specify before the analysis."
   ]
  },
  {
   "cell_type": "markdown",
   "metadata": {},
   "source": [
    "In the case of our data, we specify the null-hypothesis as countries that were formerly colonized have the same GDP as countries that weren't. Another way to phrase this is $H0: \\bar{x_1} - \\bar{x_2} = 0$, where $\\bar{x_1}$ is the mean GDP of formerly colonized countries, and $\\bar{x_2}$ is the mean GDP of non-colonized countries.\n",
    "\n",
    "We start with a 2-sided t-test, meaning that our alternative hypothesis is $H_a: \\bar{x_1} - \\bar{x_2} \\neq 0$ \n",
    "\n",
    "Lets start by identifying the means of both countries (we call these *conditional means* as they are conditioned on the variable `former_col`)."
   ]
  },
  {
   "cell_type": "code",
   "execution_count": 3,
   "metadata": {},
   "outputs": [],
   "source": [
    "# Lets first extract the wdi_gdpc variable:\n",
    "gdp_per_country = dat2['wdi_gdpc']\n",
    "gdp_col = gdp_per_country[dat2['former_col']==1] # gdp of colonized countries\n",
    "gdp_not_col = gdp_per_country[dat2['former_col']==0]"
   ]
  },
  {
   "cell_type": "code",
   "execution_count": 4,
   "metadata": {},
   "outputs": [
    {
     "name": "stdout",
     "output_type": "stream",
     "text": [
      "Mean GDP: \n",
      "Formerly colonized: 6599.71420976757, \n",
      "Not colonized: 16415.39229736328\n"
     ]
    }
   ],
   "source": [
    "# We now use this variable to obtain means:\n",
    "import numpy as np\n",
    "mean_gdp_col = np.mean(gdp_col)\n",
    "mean_gdp_not_col = np.mean(gdp_not_col)\n",
    "\n",
    "print(f'Mean GDP: \\nFormerly colonized: {mean_gdp_col}, \\nNot colonized: {mean_gdp_not_col}')"
   ]
  },
  {
   "cell_type": "markdown",
   "metadata": {},
   "source": [
    "So, clearly mean difference: former colonies seem poorer...\n",
    "\n",
    "\n",
    "But is this significant or just by chance? Lets do a t-test for mean difference 0:"
   ]
  },
  {
   "cell_type": "code",
   "execution_count": 5,
   "metadata": {},
   "outputs": [
    {
     "name": "stdout",
     "output_type": "stream",
     "text": [
      "Found p-value = 1.1208223096770084e-07\n"
     ]
    }
   ],
   "source": [
    "import scipy.stats as stats\n",
    "t, p = stats.ttest_ind(gdp_col, \n",
    "                       gdp_not_col, \n",
    "                       nan_policy='omit', \n",
    "                       alternative='two-sided')\n",
    "print(f'Found p-value = {p}')   "
   ]
  },
  {
   "cell_type": "markdown",
   "metadata": {},
   "source": [
    "P-value is super low, so former colonies are indeed much poorer.\n",
    "\n",
    "The effect here is the difference between mean of X and mean of Y. So:"
   ]
  },
  {
   "cell_type": "code",
   "execution_count": 6,
   "metadata": {},
   "outputs": [
    {
     "data": {
      "text/plain": [
       "-9815.67808759571"
      ]
     },
     "execution_count": 6,
     "metadata": {},
     "output_type": "execute_result"
    }
   ],
   "source": [
    "mean_gdp_col - mean_gdp_not_col"
   ]
  },
  {
   "cell_type": "markdown",
   "metadata": {},
   "source": [
    "So, on average 9814.70 (dollars) worse off. Now, what if we had hypothesised a direction? That is to say, we have an a-priori expectation that former colonies have lower levels of wealth? Then our alternative hypothesis ($H_a$) is set to \"less\". (we could also set H1 to \"greater\" if we test in the other direction).\n",
    "\n",
    "We now use a one-sided test, which may more often yield significant results, because you look at only 1 side of the distribution:"
   ]
  },
  {
   "cell_type": "code",
   "execution_count": 7,
   "metadata": {},
   "outputs": [
    {
     "name": "stdout",
     "output_type": "stream",
     "text": [
      "Found p-value = 5.604111548385042e-08\n"
     ]
    }
   ],
   "source": [
    "t, p = stats.ttest_ind(gdp_col, \n",
    "                       gdp_not_col, \n",
    "                       nan_policy='omit', \n",
    "                       alternative='less')\n",
    "print(f'Found p-value = {p}')"
   ]
  },
  {
   "cell_type": "markdown",
   "metadata": {},
   "source": [
    "## Covariance & Correlation\n",
    "\n",
    "---"
   ]
  },
  {
   "cell_type": "markdown",
   "metadata": {},
   "source": [
    "Lets look at correlation of continuous DV and continuous IV. I.e., independent variable World Bank Corruption Index.\n"
   ]
  },
  {
   "cell_type": "code",
   "execution_count": 13,
   "metadata": {},
   "outputs": [
    {
     "data": {
      "text/plain": [
       "count    192.000000\n",
       "mean      -0.050715\n",
       "std        0.994535\n",
       "min       -1.699529\n",
       "25%       -0.819649\n",
       "50%       -0.304757\n",
       "75%        0.506485\n",
       "max        2.445654\n",
       "Name: wbgi_cce, dtype: float64"
      ]
     },
     "execution_count": 13,
     "metadata": {},
     "output_type": "execute_result"
    }
   ],
   "source": [
    "dat2['wbgi_cce'].describe() # descriptive statistics for the variable"
   ]
  },
  {
   "cell_type": "code",
   "execution_count": 14,
   "metadata": {},
   "outputs": [
    {
     "data": {
      "text/plain": [
       "count    175.00000\n",
       "mean       0.69824\n",
       "std        0.18023\n",
       "min        0.27300\n",
       "25%        0.53900\n",
       "50%        0.75100\n",
       "75%        0.83350\n",
       "max        0.95600\n",
       "Name: undp_hdi, dtype: float64"
      ]
     },
     "execution_count": 14,
     "metadata": {},
     "output_type": "execute_result"
    }
   ],
   "source": [
    "# With dependent variable World Bank Human Development Index\n",
    "dat2['undp_hdi'].describe() # descriptive statistics for the variable\n"
   ]
  },
  {
   "cell_type": "markdown",
   "metadata": {},
   "source": [
    "We can form a hypothesis: Better control of corruption means better human development.\n",
    "\n",
    "To examine this, we could look at covariance and then correlation:"
   ]
  },
  {
   "cell_type": "code",
   "execution_count": 21,
   "metadata": {},
   "outputs": [
    {
     "data": {
      "text/html": [
       "<div>\n",
       "<style scoped>\n",
       "    .dataframe tbody tr th:only-of-type {\n",
       "        vertical-align: middle;\n",
       "    }\n",
       "\n",
       "    .dataframe tbody tr th {\n",
       "        vertical-align: top;\n",
       "    }\n",
       "\n",
       "    .dataframe thead th {\n",
       "        text-align: right;\n",
       "    }\n",
       "</style>\n",
       "<table border=\"1\" class=\"dataframe\">\n",
       "  <thead>\n",
       "    <tr style=\"text-align: right;\">\n",
       "      <th></th>\n",
       "      <th>IV</th>\n",
       "      <th>DV</th>\n",
       "    </tr>\n",
       "  </thead>\n",
       "  <tbody>\n",
       "    <tr>\n",
       "      <th>IV</th>\n",
       "      <td>0.989101</td>\n",
       "      <td>0.123106</td>\n",
       "    </tr>\n",
       "    <tr>\n",
       "      <th>DV</th>\n",
       "      <td>0.123106</td>\n",
       "      <td>0.032483</td>\n",
       "    </tr>\n",
       "  </tbody>\n",
       "</table>\n",
       "</div>"
      ],
      "text/plain": [
       "          IV        DV\n",
       "IV  0.989101  0.123106\n",
       "DV  0.123106  0.032483"
      ]
     },
     "execution_count": 21,
     "metadata": {},
     "output_type": "execute_result"
    }
   ],
   "source": [
    "import numpy as np\n",
    "\n",
    "IV = dat2['wbgi_cce']\n",
    "DV = dat2['undp_hdi']\n",
    "df = pd.DataFrame({'IV': IV, 'DV': DV})\n",
    "\n",
    "df.cov() # covariance matrix"
   ]
  },
  {
   "cell_type": "markdown",
   "metadata": {},
   "source": [
    "Note that we make a new DataFrame here and use the method `.cov()`, this way we can circumvent issues of missing values.\n",
    "\n",
    "Now let's do this for correlation:"
   ]
  },
  {
   "cell_type": "code",
   "execution_count": 20,
   "metadata": {},
   "outputs": [
    {
     "data": {
      "text/html": [
       "<div>\n",
       "<style scoped>\n",
       "    .dataframe tbody tr th:only-of-type {\n",
       "        vertical-align: middle;\n",
       "    }\n",
       "\n",
       "    .dataframe tbody tr th {\n",
       "        vertical-align: top;\n",
       "    }\n",
       "\n",
       "    .dataframe thead th {\n",
       "        text-align: right;\n",
       "    }\n",
       "</style>\n",
       "<table border=\"1\" class=\"dataframe\">\n",
       "  <thead>\n",
       "    <tr style=\"text-align: right;\">\n",
       "      <th></th>\n",
       "      <th>IV</th>\n",
       "      <th>DV</th>\n",
       "    </tr>\n",
       "  </thead>\n",
       "  <tbody>\n",
       "    <tr>\n",
       "      <th>IV</th>\n",
       "      <td>1.000000</td>\n",
       "      <td>0.682111</td>\n",
       "    </tr>\n",
       "    <tr>\n",
       "      <th>DV</th>\n",
       "      <td>0.682111</td>\n",
       "      <td>1.000000</td>\n",
       "    </tr>\n",
       "  </tbody>\n",
       "</table>\n",
       "</div>"
      ],
      "text/plain": [
       "          IV        DV\n",
       "IV  1.000000  0.682111\n",
       "DV  0.682111  1.000000"
      ]
     },
     "execution_count": 20,
     "metadata": {},
     "output_type": "execute_result"
    }
   ],
   "source": [
    "df.corr() # correlation matrix"
   ]
  },
  {
   "cell_type": "markdown",
   "metadata": {},
   "source": [
    "Often times it's easier to run a scatter graph to see relationship. For scatters, the convention is that the IV goes on x-axis and DV on y-axis:"
   ]
  },
  {
   "cell_type": "code",
   "execution_count": 22,
   "metadata": {},
   "outputs": [
    {
     "data": {
      "image/png": "[encoded data removed]",
      "text/plain": [
       "<Figure size 640x480 with 1 Axes>"
      ]
     },
     "metadata": {},
     "output_type": "display_data"
    }
   ],
   "source": [
    "import matplotlib.pyplot as plt\n",
    "\n",
    "# Scatterplot\n",
    "plt.scatter(IV, DV, color='gray')\n",
    "plt.xlabel('World Bank Control of Corruption Index')\n",
    "plt.ylabel('UNDP Human Development Index')\n",
    "plt.title('Relationship b/w Quality of Institutions and Quality of Life')\n",
    "plt.show()"
   ]
  },
  {
   "cell_type": "markdown",
   "metadata": {},
   "source": [
    "Seems like we are dealing with a positive relationship!"
   ]
  }
 ],
 "metadata": {
  "kernelspec": {
   "display_name": "Python 3 (ipykernel)",
   "language": "python",
   "name": "python3"
  },
  "language_info": {
   "codemirror_mode": {
    "name": "ipython",
    "version": 3
   },
   "file_extension": ".py",
   "mimetype": "text/x-python",
   "name": "python",
   "nbconvert_exporter": "python",
   "pygments_lexer": "ipython3",
   "version": "3.10.13"
  }
 },
 "nbformat": 4,
 "nbformat_minor": 4
}
